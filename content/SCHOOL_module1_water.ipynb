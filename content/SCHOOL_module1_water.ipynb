{
  "cells": [
    {
      "cell_type": "markdown",
      "metadata": {
        "id": "1HIMhEG2Y93u"
      },
      "source": [
        "# Module 1: Water\n",
        "<b>Module 1: Water is part of the Science Core Heuristics for Open Science Outcomes in Learning (SCHOOL),</b><br>a part of the NASA Transform to Open Science (TOPS) Training (TOPST) initiative."
      ]
    },
    {
      "cell_type": "markdown",
      "metadata": {
        "id": "NMhpnx9aZgyq"
      },
      "source": [
        "<img src=\"https://github.com/ciesin-geospatial/TOPSTSCHOOL/blob/33bce12d562d6cc39559b62fa4bc2ed89eb65114/images/m1-banner.jpg?raw=true\" alt=\"A hand in water\" width=\"600\">"
      ]
    },
    {
      "cell_type": "markdown",
      "metadata": {
        "id": "JYjlhEU2ZqhA"
      },
      "source": [
        "# Code of Conduct\n",
        "* Review other codes\n",
        "* Carpentries\n",
        "* NASA TOPS - If possible this is the default, perhaps with some edits, since we are a NASA TOPS project: https://nasa.github.io/Transform-to-Open-Science-Book/About/CODE_OF_CONDUCT.html\n",
        "* NASA OpenScapes."
      ]
    },
    {
      "cell_type": "markdown",
      "metadata": {
        "id": "LBEOEPKTZv0O"
      },
      "source": [
        "# Module 1 objectives\n",
        "* Students will gain an understanding of the water cycle\n",
        "* Students will learn the role humans play in the water cycle.\n",
        "* Student will learn about water surpluses and deficits (anomalies)\n",
        "* Students will learn how to access GLDAS data from the NASA SEDAC website (https://www.dante-project.org/sedacr)\n",
        "* Students will learn how to access MODIS NRT flood data\n",
        "* Students will learn how to store data locally\n",
        "* Students will learn how to subset a global data set to a predefined area of interest (AOI). (GeoBoundaries?)\n",
        "* Students will learn how to summarize the data set using an area of interest\n",
        "* Students will learn how to visualize results as maps and graphs using R(?)\n",
        "* Students will learn how to estimate impacts on populations at risk (PES, POPGRID, perhaps also infrastructure with OSM)\n",
        "* Students will learn how to share their results to the cloud (using Binder?)\n"
      ]
    },
    {
      "cell_type": "code",
      "execution_count": null,
      "metadata": {
        "id": "YgljutTsac33",
        "vscode": {
          "languageId": "r"
        }
      },
      "outputs": [],
      "source": [
        "text <- \"Hello, World!\""
      ]
    },
    {
      "cell_type": "code",
      "execution_count": 9,
      "metadata": {
        "colab": {
          "base_uri": "https://localhost:8080/"
        },
        "id": "2ErbEOiRUT-0",
        "outputId": "11982451-8db7-46d9-afca-e7e3f0bf0d81",
        "vscode": {
          "languageId": "r"
        }
      },
      "outputs": [
        {
          "name": "stdout",
          "output_type": "stream",
          "text": [
            "[1] \"Hello, World!\"\n"
          ]
        }
      ],
      "source": [
        "print(text)"
      ]
    },
    {
      "cell_type": "markdown",
      "metadata": {
        "id": "yqhcTYtgaV1F"
      },
      "source": [
        "## Subtitle\n",
        "regular text\n",
        "<b>bold text</b>\n",
        "### Sub Sub title\n",
        "regular text"
      ]
    },
    {
      "cell_type": "markdown",
      "metadata": {
        "id": "uqgrjYv7aKmo"
      },
      "source": [
        "# Learing Objective: The Water Cycle"
      ]
    },
    {
      "cell_type": "markdown",
      "metadata": {
        "id": "B4mw__6rZzl_"
      },
      "source": [
        "# Datasets"
      ]
    },
    {
      "cell_type": "markdown",
      "metadata": {
        "id": "BPvHfUdOZ1_z"
      },
      "source": [
        "# Credits\n",
        "## Datasets\n",
        "\n",
        "## Photos\n",
        "Module 1 Banner Photo by Jacob Kelvin.J"
      ]
    },
    {
      "cell_type": "markdown",
      "metadata": {
        "id": "5SFsZFx5UWPd"
      },
      "source": [
        "# This is an R notebook test."
      ]
    }
  ],
  "metadata": {
    "colab": {
      "provenance": []
    },
    "kernelspec": {
      "display_name": "R",
      "name": "ir"
    },
    "language_info": {
      "name": "R"
    }
  },
  "nbformat": 4,
  "nbformat_minor": 0
}
