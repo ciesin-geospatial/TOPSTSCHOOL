{
  "nbformat": 4,
  "nbformat_minor": 0,
  "metadata": {
    "colab": {
      "provenance": []
    },
    "kernelspec": {
      "name": "ir",
      "display_name": "R"
    },
    "language_info": {
      "name": "R"
    }
  },
  "cells": [
    {
      "cell_type": "code",
      "execution_count": 1,
      "metadata": {
        "id": "lsMj0G3qUEwO"
      },
      "outputs": [],
      "source": [
        "text <- (\"Hello, World!\")"
      ]
    },
    {
      "cell_type": "code",
      "source": [
        "print(text)"
      ],
      "metadata": {
        "colab": {
          "base_uri": "https://localhost:8080/"
        },
        "id": "2ErbEOiRUT-0",
        "outputId": "9e3361b0-8d65-4d3e-cecb-41ee63fa1e3e"
      },
      "execution_count": 2,
      "outputs": [
        {
          "output_type": "stream",
          "name": "stdout",
          "text": [
            "[1] \"Hello, World!\"\n"
          ]
        }
      ]
    },
    {
      "cell_type": "markdown",
      "source": [
        "# This is an R notebook test."
      ],
      "metadata": {
        "id": "5SFsZFx5UWPd"
      }
    }
  ]
}