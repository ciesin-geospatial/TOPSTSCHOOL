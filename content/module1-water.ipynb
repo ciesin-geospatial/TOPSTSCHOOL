{
 "cells": [
  {
   "cell_type": "markdown",
   "metadata": {},
   "source": [
    "\n",
    "---\n",
    "title: \"Module 1: Water\"\n",
    "description: |\n",
    "  **Module 1: Water is part of the Science Core Heuristics for Open Science Outcomes in Learning (SCHOOL)**, part of the [NASA Transform to Open Science (TOPS)](https://zenodo.org/records/8087116) Training (TOPST) initiative.\n",
    "\n",
    "format: \n",
    "  html:\n",
    "    code-tools: true\n",
    "    code-fold: show \n",
    "    code-overflow: wrap\n",
    "jupyter: python3 \n",
    "--- "
   ]
  },
  {
   "cell_type": "markdown",
   "metadata": {},
   "source": [
    "<img src=\"../images/m1-banner.jpg\" alt=\"A hand in water\" width=\"600\">"
   ]
  },
  {
   "cell_type": "markdown",
   "metadata": {},
   "source": [
    "# Code of Conduct\n",
    "* Review other codes\n",
    "* Carpentries\n",
    "* NASA TOPS - If possible this is the default, perhaps with some edits, since we are a NASA TOPS project: https://nasa.github.io/Transform-to-Open-Science-Book/About/CODE_OF_CONDUCT.html\n",
    "* NASA OpenScapes.\n",
    "\n"
   ]
  },
  {
   "cell_type": "markdown",
   "metadata": {},
   "source": [
    "# Module 1 objectives\n",
    "* Students will gain an understanding of the water cycle\n",
    "* Students will learn the role humans play in the water cycle.\n",
    "* Student will learn about water surpluses and deficits (anomalies)\n",
    "* Students will learn how to access GLDAS data from the NASA SEDAC website (https://www.dante-project.org/sedacr)\n",
    "* Students will learn how to access MODIS NRT flood data\n",
    "* Students will learn how to store data locally\n",
    "* Students will learn how to subset a global data set to a predefined area of interest (AOI). (GeoBoundaries?)\n",
    "* Students will learn how to summarize the data set using an area of interest\n",
    "* Students will learn how to visualize results as maps and graphs using R(?)\n",
    "* Students will learn how to estimate impacts on populations at risk (PES, POPGRID, perhaps also infrastructure with OSM)\n",
    "* Students will learn how to share their results to the cloud (using Binder?)\n"
   ]
  },
  {
   "cell_type": "markdown",
   "metadata": {},
   "source": [
    "# Datasets "
   ]
  },
  {
   "cell_type": "markdown",
   "metadata": {},
   "source": [
    "# Credits\n",
    "\n",
    "M1 Banner Photo by Jacob Kelvin.J"
   ]
  }
 ],
 "metadata": {
  "kernelspec": {
   "display_name": "Python 3",
   "language": "python",
   "name": "python3"
  },
  "language_info": {
   "name": "python",
   "version": "3.9.16"
  },
  "orig_nbformat": 4
 },
 "nbformat": 4,
 "nbformat_minor": 2
}
