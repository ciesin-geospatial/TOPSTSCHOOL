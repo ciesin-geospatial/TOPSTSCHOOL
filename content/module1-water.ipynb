{
 "cells": [
  {
   "cell_type": "markdown",
   "metadata": {},
   "source": [
    "\n",
    "---\n",
    "title: \"Module 1: Water\"\n",
    "description: |\n",
    "  **Module 1: Water is part of the Science Core Heuristics for Open Science Outcomes in Learning (SCHOOL)**, part of the [NASA Transform to Open Science (TOPS)](https://zenodo.org/records/8087116) Training (TOPST) initiative.\n",
    "\n",
    "format: \n",
    "  html:\n",
    "    code-tools: true\n",
    "    code-fold: show \n",
    "    code-overflow: wrap\n",
    "jupyter: python3\n",
    "--- "
   ]
  },
  {
   "cell_type": "markdown",
   "metadata": {},
   "source": [
    "# Module 1: Water\n",
    "\n",
    "\n",
    "\n",
    "## Code of Conduct\n",
    "* Review other codes\n",
    "* Carpentries\n",
    "* NASA TOPS - If possible this is the default, perhaps with some edits, since we are a NASA TOPS project: https://nasa.github.io/Transform-to-Open-Science-Book/About/CODE_OF_CONDUCT.html\n",
    "* NASA OpenScapes.\n",
    "\n"
   ]
  },
  {
   "cell_type": "markdown",
   "metadata": {},
   "source": [
    "## Module 1 objectives\n",
    "* Students will gain an understanding of the water cycle\n",
    "* Students will learn the role humans play in the water cycle.\n",
    "* Student will learn about water surpluses and deficits (anomalies)\n",
    "* Students will learn how to access NASA SEDAC data set using R package (created for Dante for this purpose: https://www.dante-project.org/sedacr)\n",
    "* Students will learn how to store data locally\n",
    "* Students will learn how to subset a global data set to an area of interest (AOI).\n",
    "* Students will learn how to summarize the data set using an area of interest\n",
    "* Students will learn how to visualize results as maps and graphs using R(?)\n",
    "* Students will learn how to share their results to the cloud (using Binder?)\n"
   ]
  },
  {
   "cell_type": "code",
   "execution_count": null,
   "metadata": {},
   "outputs": [],
   "source": []
  }
 ],
 "metadata": {
  "language_info": {
   "name": "python"
  },
  "orig_nbformat": 4
 },
 "nbformat": 4,
 "nbformat_minor": 2
}
