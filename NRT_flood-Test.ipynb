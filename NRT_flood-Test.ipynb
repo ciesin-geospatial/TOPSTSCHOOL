{
  "cells": [
    {
      "cell_type": "markdown",
      "metadata": {},
      "source": [
        "# NRT_flood_test\n",
        "\n",
        "Juan Martinez\n",
        "\n",
        "## NRT Flood Test\n",
        "\n",
        "Libraries:\n",
        "\n",
        "``` r\n",
        "library(stars)\n",
        "```\n",
        "\n",
        "``` r\n",
        "download_link <- \"https://nrt3.modaps.eosdis.nasa.gov/api/v2/content/archives/MCDWD_L3_F3_NRT.A2023324.h09v06.061.tif\"\n",
        "x <- read_stars(download_link)\n",
        "plot(x, axes = TRUE)\n",
        "```"
      ],
      "id": "a8dd235c-401b-4019-9780-f048bdf95da6"
    }
  ],
  "nbformat": 4,
  "nbformat_minor": 5,
  "metadata": {
    "kernelspec": {
      "display_name": "Python 3",
      "language": "python",
      "name": "python3"
    }
  }
}